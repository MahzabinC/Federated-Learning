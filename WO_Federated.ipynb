{
  "nbformat": 4,
  "nbformat_minor": 0,
  "metadata": {
    "colab": {
      "provenance": [],
      "authorship_tag": "ABX9TyO+97ROnycojq50mhrYvIKa",
      "include_colab_link": true
    },
    "kernelspec": {
      "name": "python3",
      "display_name": "Python 3"
    },
    "language_info": {
      "name": "python"
    }
  },
  "cells": [
    {
      "cell_type": "markdown",
      "metadata": {
        "id": "view-in-github",
        "colab_type": "text"
      },
      "source": [
        "<a href=\"https://colab.research.google.com/github/MahzabinC/Federated-Learning/blob/main/WO_Federated.ipynb\" target=\"_parent\"><img src=\"https://colab.research.google.com/assets/colab-badge.svg\" alt=\"Open In Colab\"/></a>"
      ]
    },
    {
      "cell_type": "code",
      "execution_count": 1,
      "metadata": {
        "id": "dQl9WQTJUTrp"
      },
      "outputs": [],
      "source": [
        "import torch\n",
        "import torch.nn as nn\n",
        "import torch.optim as optim\n",
        "from torchvision import datasets, transforms\n",
        "\n",
        "# Device configuration\n",
        "device = torch.device(\"cuda\" if torch.cuda.is_available() else \"cpu\")\n",
        "\n",
        "# Hyperparameters\n",
        "BATCH_SIZE = 128\n",
        "LR = 0.01\n",
        "EPOCHS = 20"
      ]
    },
    {
      "cell_type": "code",
      "source": [
        "# Load Datasets\n",
        "def get_centralized_dataloader(dataset_name):\n",
        "    if dataset_name == \"mnist\":\n",
        "        train_dataset = datasets.MNIST(\n",
        "            root=\"./data\",\n",
        "            train=True,\n",
        "            download=True,\n",
        "            transform=transforms.ToTensor()\n",
        "        )\n",
        "        test_dataset = datasets.MNIST(\n",
        "            root=\"./data\",\n",
        "            train=False,\n",
        "            download=True,\n",
        "            transform=transforms.ToTensor()\n",
        "        )\n",
        "    elif dataset_name == \"cifar10\":\n",
        "        train_dataset = datasets.CIFAR10(\n",
        "            root=\"./data\",\n",
        "            train=True,\n",
        "            download=True,\n",
        "            transform=transforms.Compose([\n",
        "                transforms.ToTensor(),\n",
        "                transforms.Normalize((0.5, 0.5, 0.5), (0.5, 0.5, 0.5))\n",
        "            ])\n",
        "        )\n",
        "        test_dataset = datasets.CIFAR10(\n",
        "            root=\"./data\",\n",
        "            train=False,\n",
        "            download=True,\n",
        "            transform=transforms.Compose([\n",
        "                transforms.ToTensor(),\n",
        "                # Added std to Normalize for the test_dataset\n",
        "                transforms.Normalize((0.5, 0.5, 0.5), (0.5, 0.5, 0.5))\n",
        "            ])\n",
        "        )\n",
        "    else:\n",
        "        raise ValueError(\"Dataset not supported\")\n",
        "\n",
        "    train_loader = torch.utils.data.DataLoader(train_dataset, batch_size=BATCH_SIZE, shuffle=True)\n",
        "    test_loader = torch.utils.data.DataLoader(test_dataset, batch_size=BATCH_SIZE, shuffle=False)\n",
        "\n",
        "    return train_loader, test_loader"
      ],
      "metadata": {
        "id": "uVAGYmPnUjSn"
      },
      "execution_count": 13,
      "outputs": []
    },
    {
      "cell_type": "code",
      "source": [
        "# Model Architectures\n",
        "class MNIST2NN(nn.Module):\n",
        "    def __init__(self):\n",
        "        super(MNIST2NN, self).__init__()\n",
        "        self.fc1 = nn.Linear(28*28, 200)\n",
        "        self.fc2 = nn.Linear(200, 200)\n",
        "        self.fc3 = nn.Linear(200, 10)\n",
        "\n",
        "    def forward(self, x):\n",
        "        x = x.view(-1, 28*28)\n",
        "        x = torch.relu(self.fc1(x))\n",
        "        x = torch.relu(self.fc2(x))\n",
        "        x = self.fc3(x)\n",
        "        return x\n",
        "\n",
        "class CNN(nn.Module):\n",
        "    def __init__(self, input_channels=1):\n",
        "        super(CNN, self).__init__()\n",
        "        self.conv1 = nn.Conv2d(input_channels, 32, kernel_size=5, stride=1, padding=2)\n",
        "        self.conv2 = nn.Conv2d(32, 64, kernel_size=5, stride=1, padding=2)\n",
        "        self.fc1 = nn.Linear(64*8*8, 512) # Changed from 64*7*7 to 64*8*8\n",
        "        self.fc2 = nn.Linear(512, 10)\n",
        "\n",
        "    def forward(self, x):\n",
        "        x = torch.relu(self.conv1(x))\n",
        "        x = torch.max_pool2d(x, 2)\n",
        "        x = torch.relu(self.conv2(x))\n",
        "        x = torch.max_pool2d(x, 2)\n",
        "        x = x.view(-1, 64*8*8)  # Changed from 64*7*7 to 64*8*8\n",
        "        x = torch.relu(self.fc1(x))\n",
        "        x = self.fc2(x)\n",
        "        return x"
      ],
      "metadata": {
        "id": "RAUffOOOVOwG"
      },
      "execution_count": 3,
      "outputs": []
    },
    {
      "cell_type": "code",
      "source": [
        "# Model Training Function\n",
        "def train_centralized(model, train_loader, criterion, optimizer, epochs):\n",
        "    model.train()\n",
        "    for epoch in range(epochs):\n",
        "        total_loss = 0\n",
        "        for data, target in train_loader:\n",
        "            data, target = data.to(device), target.to(device)\n",
        "\n",
        "            # Forward pass\n",
        "            outputs = model(data)\n",
        "            loss = criterion(outputs, target)\n",
        "\n",
        "            # Backward pass\n",
        "            optimizer.zero_grad()\n",
        "            loss.backward()\n",
        "            optimizer.step()\n",
        "\n",
        "            total_loss += loss.item()\n",
        "        print(f\"Epoch [{epoch + 1}/{epochs}], Loss: {total_loss / len(train_loader):.4f}\")\n",
        "\n",
        "# Model Evaluation Function\n",
        "def evaluate_centralized(model, test_loader):\n",
        "    model.eval()\n",
        "    correct, total = 0, 0\n",
        "    with torch.no_grad():\n",
        "        for data, target in test_loader:\n",
        "            data, target = data.to(device), target.to(device)\n",
        "            outputs = model(data)\n",
        "            _, predicted = outputs.max(1)\n",
        "            correct += (predicted == target).sum().item()\n",
        "            total += target.size(0)\n",
        "    print(f\"Test Accuracy: {correct / total:.4f}\")\n",
        "\n"
      ],
      "metadata": {
        "id": "FWPkLaUOUpy_"
      },
      "execution_count": 10,
      "outputs": []
    },
    {
      "cell_type": "code",
      "source": [
        "# Run MNIST Experiment\n",
        "print(\"Training on MNIST with Centralized Learning...\")\n",
        "mnist_train_loader, mnist_test_loader = get_centralized_dataloader(\"mnist\")\n",
        "mnist_model = MNIST2NN().to(device)  # Use the MNIST2NN defined earlier\n",
        "criterion = nn.CrossEntropyLoss()\n",
        "optimizer = optim.SGD(mnist_model.parameters(), lr=LR)\n",
        "\n",
        "train_centralized(mnist_model, mnist_train_loader, criterion, optimizer, EPOCHS)\n",
        "evaluate_centralized(mnist_model, mnist_test_loader)\n"
      ],
      "metadata": {
        "colab": {
          "base_uri": "https://localhost:8080/"
        },
        "id": "0YrNT7xYUyem",
        "outputId": "7284afe7-aed7-4d9c-8fea-9a35ad5e9eda"
      },
      "execution_count": 11,
      "outputs": [
        {
          "output_type": "stream",
          "name": "stdout",
          "text": [
            "Training on MNIST with Centralized Learning...\n",
            "Epoch [1/20], Loss: 2.1347\n",
            "Epoch [2/20], Loss: 1.1524\n",
            "Epoch [3/20], Loss: 0.6007\n",
            "Epoch [4/20], Loss: 0.4648\n",
            "Epoch [5/20], Loss: 0.4052\n",
            "Epoch [6/20], Loss: 0.3708\n",
            "Epoch [7/20], Loss: 0.3473\n",
            "Epoch [8/20], Loss: 0.3293\n",
            "Epoch [9/20], Loss: 0.3150\n",
            "Epoch [10/20], Loss: 0.3025\n",
            "Epoch [11/20], Loss: 0.2916\n",
            "Epoch [12/20], Loss: 0.2814\n",
            "Epoch [13/20], Loss: 0.2719\n",
            "Epoch [14/20], Loss: 0.2634\n",
            "Epoch [15/20], Loss: 0.2552\n",
            "Epoch [16/20], Loss: 0.2471\n",
            "Epoch [17/20], Loss: 0.2395\n",
            "Epoch [18/20], Loss: 0.2321\n",
            "Epoch [19/20], Loss: 0.2249\n",
            "Epoch [20/20], Loss: 0.2182\n",
            "Test Accuracy: 0.9389\n"
          ]
        }
      ]
    },
    {
      "cell_type": "code",
      "source": [
        "# Run CIFAR-10 Experiment\n",
        "print(\"Training on CIFAR-10 with Centralized Learning...\")\n",
        "cifar10_train_loader, cifar10_test_loader = get_centralized_dataloader(\"cifar10\")\n",
        "cifar10_model = CNN(input_channels=3).to(device)  # Use the CNN defined earlier\n",
        "criterion = nn.CrossEntropyLoss()\n",
        "optimizer = optim.SGD(cifar10_model.parameters(), lr=LR)\n",
        "\n",
        "train_centralized(cifar10_model, cifar10_train_loader, criterion, optimizer, EPOCHS)\n",
        "evaluate_centralized(cifar10_model, cifar10_test_loader)"
      ],
      "metadata": {
        "colab": {
          "base_uri": "https://localhost:8080/"
        },
        "id": "MnmfSRz-U1Cv",
        "outputId": "5b5072cf-b33b-43d6-f340-7e1be7ddc380"
      },
      "execution_count": 14,
      "outputs": [
        {
          "output_type": "stream",
          "name": "stdout",
          "text": [
            "Training on CIFAR-10 with Centralized Learning...\n",
            "Files already downloaded and verified\n",
            "Files already downloaded and verified\n",
            "Epoch [1/20], Loss: 2.1117\n",
            "Epoch [2/20], Loss: 1.8036\n",
            "Epoch [3/20], Loss: 1.6159\n",
            "Epoch [4/20], Loss: 1.4862\n",
            "Epoch [5/20], Loss: 1.4067\n",
            "Epoch [6/20], Loss: 1.3513\n",
            "Epoch [7/20], Loss: 1.2987\n",
            "Epoch [8/20], Loss: 1.2530\n",
            "Epoch [9/20], Loss: 1.2100\n",
            "Epoch [10/20], Loss: 1.1731\n",
            "Epoch [11/20], Loss: 1.1357\n",
            "Epoch [12/20], Loss: 1.0965\n",
            "Epoch [13/20], Loss: 1.0586\n",
            "Epoch [14/20], Loss: 1.0234\n",
            "Epoch [15/20], Loss: 0.9908\n",
            "Epoch [16/20], Loss: 0.9594\n",
            "Epoch [17/20], Loss: 0.9286\n",
            "Epoch [18/20], Loss: 0.8970\n",
            "Epoch [19/20], Loss: 0.8719\n",
            "Epoch [20/20], Loss: 0.8399\n",
            "Test Accuracy: 0.6585\n"
          ]
        }
      ]
    }
  ]
}